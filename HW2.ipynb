{
 "cells": [
  {
   "cell_type": "code",
   "execution_count": 1,
   "id": "hourly-athens",
   "metadata": {},
   "outputs": [],
   "source": [
    "import numpy as np\n",
    "import pandas as pd\n",
    "from matplotlib import pyplot as plt\n",
    "import pickle"
   ]
  },
  {
   "cell_type": "code",
   "execution_count": 2,
   "id": "bridal-jamaica",
   "metadata": {},
   "outputs": [],
   "source": [
    "with open('data.nosync/results.pkl', 'rb') as f:\n",
    "    results = pickle.load(f)\n",
    "    \n",
    "with open('data.nosync/tournaments.pkl', 'rb') as f:\n",
    "    tournaments = pickle.load(f)\n",
    "    \n",
    "with open('data.nosync/players.pkl', 'rb') as f:\n",
    "    players = pickle.load(f)"
   ]
  },
  {
   "cell_type": "code",
   "execution_count": 3,
   "id": "diverse-apparatus",
   "metadata": {},
   "outputs": [],
   "source": [
    "import datetime \n",
    "import re\n",
    "\n",
    "def get_year(tournament):\n",
    "    parsed_date_str = re.search(r'^[^T]*', tournament['dateStart']).group(0)\n",
    "    return datetime.date.fromisoformat(parsed_date_str).year\n",
    "    \n",
    "\n",
    "# filter tournaments only for 2019 and 2020 years\n",
    "def filter_tournaments(tournaments, years_range):\n",
    "    filtered_tournaments = {}\n",
    "    for idx in tournaments:\n",
    "        if years_range[0] <= get_year(tournaments[idx]) <= years_range[1]:\n",
    "            filtered_tournaments[idx] = tournaments[idx]\n",
    "    return filtered_tournaments"
   ]
  },
  {
   "cell_type": "code",
   "execution_count": 4,
   "id": "numerical-zoning",
   "metadata": {},
   "outputs": [],
   "source": [
    "tournaments = filter_tournaments(tournaments, (2019, 2020))"
   ]
  },
  {
   "cell_type": "code",
   "execution_count": 5,
   "id": "suitable-findings",
   "metadata": {},
   "outputs": [],
   "source": [
    "def filter_results(results, filtered_tournaments):\n",
    "    filtered = {}\n",
    "    for idx in results:\n",
    "        if idx in filtered_tournaments:\n",
    "            teams = results[idx]\n",
    "            for team in teams:\n",
    "                if 'mask' in team and team['mask']:\n",
    "                    team['mask'] = re.sub(r'X|\\?', '0', team['mask'])\n",
    "                    filtered.setdefault(idx, []).append(team)\n",
    "    return filtered"
   ]
  },
  {
   "cell_type": "code",
   "execution_count": 6,
   "id": "aerial-pound",
   "metadata": {},
   "outputs": [],
   "source": [
    "results = filter_results(results, tournaments)"
   ]
  },
  {
   "cell_type": "code",
   "execution_count": 7,
   "id": "impressed-employer",
   "metadata": {
    "scrolled": true
   },
   "outputs": [],
   "source": [
    "train_tours_ids = [t for t in results if get_year(tournaments[t]) == 2019]\n",
    "test_tours_ids = [t for t in results if get_year(tournaments[t]) == 2020]"
   ]
  },
  {
   "cell_type": "code",
   "execution_count": 8,
   "id": "educational-november",
   "metadata": {},
   "outputs": [],
   "source": [
    "assert len(train_tours_ids) + len(test_tours_ids) == len(results)"
   ]
  },
  {
   "cell_type": "markdown",
   "id": "peripheral-mailman",
   "metadata": {},
   "source": [
    "### Подготавливаем датасет для тренировки"
   ]
  },
  {
   "cell_type": "code",
   "execution_count": 9,
   "id": "wired-finding",
   "metadata": {},
   "outputs": [],
   "source": [
    "def construct_dataset(tour_ids, results, tournaments):\n",
    "    dataset = []\n",
    "    base_qid = 0\n",
    "    for tour_id in tour_ids:\n",
    "        at_least_one = False\n",
    "        total_questions = sum(tournaments[tour_id]['questionQty'].values())\n",
    "        for team in results[tour_id]:\n",
    "            if len(team['mask']) == total_questions:\n",
    "                team_id = team['team']['id']\n",
    "                at_least_one = True\n",
    "                for i, res in enumerate(team['mask']):\n",
    "                    for member in team['teamMembers']:\n",
    "                        player_id = member['player']['id']\n",
    "                        dataset.append([team_id, player_id, base_qid + i, int(res)])        \n",
    "        if at_least_one:\n",
    "            base_qid += total_questions\n",
    "                    \n",
    "    return pd.DataFrame(columns=['Team ID', 'Player ID', 'Question ID', 'isCorrect'], data=dataset)"
   ]
  },
  {
   "cell_type": "code",
   "execution_count": 10,
   "id": "major-methodology",
   "metadata": {},
   "outputs": [],
   "source": [
    "train_dataset = construct_dataset(train_tours_ids, results, tournaments)\n",
    "test_dataset = construct_dataset(test_tours_ids, results, tournaments)"
   ]
  },
  {
   "cell_type": "markdown",
   "id": "fantastic-rainbow",
   "metadata": {},
   "source": [
    "Кодируем всех игроков и вопросы в one-hot векторы. Вес у соответствующего элемента one-hot вектора игрока будет значить его силу, а вес при соответствующем элемент вектора вопросов значит его \"легкость\""
   ]
  },
  {
   "cell_type": "code",
   "execution_count": 11,
   "id": "lovely-union",
   "metadata": {},
   "outputs": [],
   "source": [
    "from sklearn.preprocessing import OneHotEncoder\n",
    "from sklearn.compose import ColumnTransformer\n",
    "\n",
    "OHE = OneHotEncoder(handle_unknown='ignore')\n",
    "X_train_oh = OHE.fit_transform(train_dataset[['Player ID', 'Question ID']])\n",
    "X_test_oh = OHE.transform(test_dataset[['Player ID', 'Question ID']])\n",
    "y_train = train_dataset['isCorrect']\n",
    "y_test = test_dataset['isCorrect']"
   ]
  },
  {
   "cell_type": "code",
   "execution_count": 12,
   "id": "critical-local",
   "metadata": {},
   "outputs": [],
   "source": [
    "from sklearn.linear_model import LogisticRegression\n",
    "from sklearn.metrics import accuracy_score\n",
    "\n",
    "logreg = LogisticRegression(penalty='l2', solver='liblinear').fit(X_train_oh, y_train)"
   ]
  },
  {
   "cell_type": "code",
   "execution_count": 13,
   "id": "wicked-guinea",
   "metadata": {},
   "outputs": [],
   "source": [
    "num_uniq_cols = train_dataset.nunique()\n",
    "num_players = num_uniq_cols[1]\n",
    "num_questions = num_uniq_cols[2]\n",
    "player_weights = logreg.coef_[0, :num_players]\n",
    "question_wights = logreg.coef_[0, -num_questions:]"
   ]
  },
  {
   "cell_type": "code",
   "execution_count": 14,
   "id": "aging-latvia",
   "metadata": {},
   "outputs": [],
   "source": [
    "def fullname_from_coef(coef_idx, encoder, players):\n",
    "    player_id = encoder.categories_[0][coef_idx]\n",
    "    fullname = players[player_id][\"name\"] + ' '\n",
    "    fullname += (players[player_id][\"patronymic\"] + ' ') if players[player_id][\"patronymic\"] else \"\"\n",
    "    fullname += players[player_id][\"surname\"]\n",
    "    return fullname"
   ]
  },
  {
   "cell_type": "markdown",
   "id": "raising-proposal",
   "metadata": {},
   "source": [
    "### 20 лучший игроков (с наибольшим весом)"
   ]
  },
  {
   "cell_type": "code",
   "execution_count": 15,
   "id": "charming-acrobat",
   "metadata": {
    "scrolled": true
   },
   "outputs": [
    {
     "name": "stdout",
     "output_type": "stream",
     "text": [
      "1. Максим Михайлович Руссо\t\tвес: 4.160\n",
      "2. Александра Владимировна Брутер\tвес: 4.032\n",
      "3. Иван Николаевич Семушин\t\tвес: 3.987\n",
      "4. Михаил Владимирович Савченков\tвес: 3.898\n",
      "5. Сергей Леонидович Спешков\t\tвес: 3.820\n",
      "6. Артём Сергеевич Сорожкин\t\tвес: 3.819\n",
      "7. Станислав Григорьевич Мереминский\tвес: 3.702\n",
      "8. Михаил Ильич Левандовский\t\tвес: 3.645\n",
      "9. Ирина Сергеевна Прокофьева\t\tвес: 3.601\n",
      "10. Сергей Игоревич Николенко\t\tвес: 3.585\n",
      "11. Илья Сергеевич Новиков\t\tвес: 3.555\n",
      "12. Антон Владимирович Саксонов\t\tвес: 3.554\n",
      "13. Александр Витальевич Либер\t\tвес: 3.537\n",
      "14. Игорь Викторович Мокин\t\tвес: 3.516\n",
      "15. Александр Владимирович Мосягин\tвес: 3.514\n",
      "16. Алексей Владимирович Гилёв\t\tвес: 3.510\n",
      "17. Михаил Сергеевич Царёв\t\tвес: 3.503\n",
      "18. Дмитрий Александрович Карякин\tвес: 3.497\n",
      "19. Александр Валерьевич Марков\t\tвес: 3.495\n",
      "20. Наталья Евгеньевна Горелова\t\tвес: 3.488\n"
     ]
    }
   ],
   "source": [
    "top_20_coefs = np.argsort(player_weights)[-20:][::-1]\n",
    "for i, coef_idx in enumerate(top_20_coefs):\n",
    "    fullname = fullname_from_coef(coef_idx, OHE, players)\n",
    "    tabulation = \"\\t\\t\" if len(fullname) < 29 else \"\\t\"\n",
    "    print(f'{i + 1}. {fullname}' +\n",
    "          tabulation +\n",
    "          f'вес: {player_weights[coef_idx]:.3f}')"
   ]
  },
  {
   "cell_type": "markdown",
   "id": "valid-jacob",
   "metadata": {},
   "source": [
    "### Собираем предсказания по турнирам"
   ]
  },
  {
   "cell_type": "markdown",
   "id": "mysterious-court",
   "metadata": {},
   "source": [
    "Вес команды - это среднее весов ее участников. Чем больше вес, тем лучше команда"
   ]
  },
  {
   "cell_type": "code",
   "execution_count": 16,
   "id": "whole-sampling",
   "metadata": {},
   "outputs": [],
   "source": [
    "def gen_pid_weight_dict(model, unique_pids, model_idx):\n",
    "    pid_to_weight = {}\n",
    "    for i, pid in enumerate(unique_pids):\n",
    "        if len(model.coef_.shape) == 2:\n",
    "            pid_to_weight[pid] = model.coef_[0][model_idx[i]]\n",
    "        elif len(model.coef_.shape) == 1:\n",
    "            pid_to_weight[pid] = model.coef_[model_idx[i]]\n",
    "    return  pid_to_weight "
   ]
  },
  {
   "cell_type": "code",
   "execution_count": 17,
   "id": "executive-minnesota",
   "metadata": {},
   "outputs": [],
   "source": [
    "def generate_predictions(test_tours_ids, results, pid_to_weight):\n",
    "    pred_results = {}\n",
    "    for tour_id in test_tours_ids:\n",
    "        if tour_id in results:\n",
    "            pred_results[tour_id] = []\n",
    "            for team in results[tour_id]:\n",
    "                team_weight = 0\n",
    "                n = 0\n",
    "                for member in team['teamMembers']:\n",
    "                    team_weight += pid_to_weight.get(member['player']['id'], 0)\n",
    "                    n += 1\n",
    "                if n != 0:\n",
    "                    team_weight = team_weight / n\n",
    "                pred_results[tour_id].append([team['team']['id'], team_weight])\n",
    "            pred_results[tour_id] = np.array(pred_results[tour_id], dtype=int)\n",
    "    return pred_results"
   ]
  },
  {
   "cell_type": "code",
   "execution_count": 18,
   "id": "spare-practitioner",
   "metadata": {},
   "outputs": [],
   "source": [
    "def generate_true_results(test_tours_ids, results):\n",
    "    true_results = {}\n",
    "    for tour_id in test_tours_ids:\n",
    "        if tour_id in results:\n",
    "            true_results[tour_id] = []\n",
    "            for team in results[tour_id]:\n",
    "                true_results[tour_id].append([team['team']['id'], team['questionsTotal']])\n",
    "            true_results[tour_id] = np.array(true_results[tour_id], dtype=int)\n",
    "    return true_results"
   ]
  },
  {
   "cell_type": "code",
   "execution_count": 19,
   "id": "super-vatican",
   "metadata": {},
   "outputs": [],
   "source": [
    "from scipy.stats import spearmanr, kendalltau\n",
    "import math\n",
    "\n",
    "def calculate_correlations(pred_results, true_results):\n",
    "    scorrs = []\n",
    "    kcorrs = []\n",
    "    for tour_id in true_results:\n",
    "        if tour_id in results:\n",
    "            scorr = spearmanr(true_results[tour_id][:, 1],\n",
    "                                         pred_results[tour_id][:, 1])[0]\n",
    "            if not math.isnan(scorr):\n",
    "                scorrs.append(scorr)\n",
    "\n",
    "            kcorr = kendalltau(true_results[tour_id][:, 1],\n",
    "                                         pred_results[tour_id][:, 1])[0]\n",
    "            if not math.isnan(kcorr):\n",
    "                kcorrs.append(kcorr)\n",
    "    \n",
    "    return np.mean(scorrs), np.mean(kcorrs)"
   ]
  },
  {
   "cell_type": "code",
   "execution_count": 20,
   "id": "crucial-seventh",
   "metadata": {},
   "outputs": [
    {
     "name": "stdout",
     "output_type": "stream",
     "text": [
      "Mean Spearman's correlation:0.6946516860136752\n",
      "Mean Kendall's correlation: 0.5936957293306635\n"
     ]
    },
    {
     "name": "stderr",
     "output_type": "stream",
     "text": [
      "/Users/ilya/.local/share/virtualenvs/ML2-QrfXVegw-python/lib/python3.8/site-packages/scipy/stats/stats.py:4264: SpearmanRConstantInputWarning: An input array is constant; the correlation coefficent is not defined.\n",
      "  warnings.warn(SpearmanRConstantInputWarning())\n"
     ]
    }
   ],
   "source": [
    "unique_pids = train_dataset['Player ID'].unique()\n",
    "model_idx = OHE.transform(np.concatenate((unique_pids[:, None],\n",
    "                                              -1*np.ones(num_players, dtype=int)[:, None]), axis=1)).nonzero()[1]\n",
    "    \n",
    "pid2weight = gen_pid_weight_dict(logreg, unique_pids, model_idx)\n",
    "pred_results = generate_predictions(test_tours_ids, results, pid2weight)\n",
    "true_results = generate_true_results(test_tours_ids, results)\n",
    "\n",
    "corrs = calculate_correlations(pred_results, true_results)\n",
    "print(f\"Mean Spearman's correlation:{corrs[0]}\")\n",
    "print(f\"Mean Kendall's correlation: {corrs[1]}\")"
   ]
  },
  {
   "cell_type": "markdown",
   "id": "unknown-rachel",
   "metadata": {},
   "source": [
    "###  Теперь применим EM алгоритм\n",
    "Скрытая переменная $z_{ij}$ - ответил ли $i$ участник на $j$ вопрос.\n",
    "Для EM-алгоритма нам нужно мат ожидание $E(z_{ij})$.\n",
    "Если команда $i$-го участника не ответила на $j$ вопрос, то будем считать $z_{ij} = 0$ и $E(z_{ij}) = 0$.\n",
    "Если команда ответила верно, то будем считать, что $E(z_{ij})$ - вероятность того что $z_{ij} = 1$, при условии, что кто-то из команды все-таки ответил на вопрос. Данную условную вероятность (или же просто  $E(z_{ij})$) будем моделировать с помощью линейной регрессии, которая будет учиться предсказывать $inverse\\_sigmoid(E(z_{ij}))$. Тогда $\\sigma(linreg\\_output)$ ~ $E(z_{ij})$.\n",
    "Итак, \n",
    "\n",
    "E-шаг: вычислим $E(z_{ij})$, через с помощью предсказаний линейной регрессии, основанной на зафиксированных параметрах \"скилов\" игроков и \"легкости\" вопросов.\n",
    "\n",
    "М-шаг: обучим линейную регресиию предсказывать только что посчитанные $E(z_{ij})$."
   ]
  },
  {
   "cell_type": "code",
   "execution_count": 21,
   "id": "exact-japan",
   "metadata": {},
   "outputs": [],
   "source": [
    "from sklearn.linear_model import Ridge, LinearRegression"
   ]
  },
  {
   "cell_type": "code",
   "execution_count": 22,
   "id": "bridal-soviet",
   "metadata": {},
   "outputs": [],
   "source": [
    "def E_step(X_train, preds):\n",
    "    tmp_df = X_train.copy()\n",
    "    tmp_df['ones_minus_probs'] = 1 - preds\n",
    "    tmp_df['group_product'] = tmp_df.groupby(['Team ID', 'Question ID'])['ones_minus_probs'].transform('prod')\n",
    "    tmp_df['E_z'] = (preds / (1 - tmp_df['group_product'])) * tmp_df['isCorrect']\n",
    "    return tmp_df['E_z'].values"
   ]
  },
  {
   "cell_type": "code",
   "execution_count": 23,
   "id": "underlying-hardwood",
   "metadata": {},
   "outputs": [],
   "source": [
    "def M_step(X_train_onehot, z_train):\n",
    "    linreg = LinearRegression().fit(X_train_onehot, z_train)\n",
    "    return linreg"
   ]
  },
  {
   "cell_type": "code",
   "execution_count": 24,
   "id": "separated-multimedia",
   "metadata": {},
   "outputs": [],
   "source": [
    "def sig(x):\n",
    "    return 1 / (1 + np.exp(-x))\n",
    "\n",
    "def inv_sig(y):\n",
    "    y = np.clip(y, 1e-8, 1 - 1e-8)\n",
    "    return np.log(y / (1 - y))"
   ]
  },
  {
   "cell_type": "code",
   "execution_count": 25,
   "id": "instrumental-thumbnail",
   "metadata": {
    "scrolled": false
   },
   "outputs": [
    {
     "name": "stderr",
     "output_type": "stream",
     "text": [
      "/Users/ilya/.local/share/virtualenvs/ML2-QrfXVegw-python/lib/python3.8/site-packages/scipy/stats/stats.py:4264: SpearmanRConstantInputWarning: An input array is constant; the correlation coefficent is not defined.\n",
      "  warnings.warn(SpearmanRConstantInputWarning())\n"
     ]
    },
    {
     "name": "stdout",
     "output_type": "stream",
     "text": [
      "Baseline:\n",
      "Mean Spearman's correlation:0.6946516860136752\n",
      "Mean Kendall's correlation: 0.5936957293306635\n",
      "\n",
      "Iteration 0 is started...\n",
      "Mean Spearman's correlation:0.7625189306901213\n",
      "Mean Kendall's correlation: 0.6335766525433221\n",
      "\n",
      "Iteration 1 is started...\n",
      "Mean Spearman's correlation:0.7615111031729237\n",
      "Mean Kendall's correlation: 0.6339508260350866\n",
      "\n",
      "Iteration 2 is started...\n",
      "Mean Spearman's correlation:0.7656064760761063\n",
      "Mean Kendall's correlation: 0.6389242840201143\n",
      "\n",
      "Iteration 3 is started...\n",
      "Mean Spearman's correlation:0.7646738143060503\n",
      "Mean Kendall's correlation: 0.6372318701286596\n",
      "\n",
      "Iteration 4 is started...\n",
      "Mean Spearman's correlation:0.7653152723335793\n",
      "Mean Kendall's correlation: 0.6383696819959492\n",
      "\n"
     ]
    }
   ],
   "source": [
    "num_iter = 5\n",
    "\n",
    "logreg = LogisticRegression(penalty='l2', solver='liblinear').fit(X_train_oh, y_train)\n",
    "train_preds = logreg.predict_proba(X_train_oh)[:, 1]\n",
    "\n",
    "pid2weight = gen_pid_weight_dict(logreg, unique_pids, model_idx)\n",
    "pred_results = generate_predictions(test_tours_ids, results, pid2weight)\n",
    "corrs = calculate_correlations(pred_results, true_results)\n",
    "print(f\"Baseline:\")\n",
    "print(f\"Mean Spearman's correlation:{corrs[0]}\")\n",
    "print(f\"Mean Kendall's correlation: {corrs[1]}\")\n",
    "print()\n",
    "    \n",
    "best_model = None\n",
    "max_scorr = 0\n",
    "\n",
    "for i in range(num_iter):\n",
    "    print(f'Iteration {i} is started...')\n",
    "    # E-step\n",
    "    E_z = E_step(train_dataset, train_preds)\n",
    "    # M-step\n",
    "    linreg = M_step(X_train_oh, inv_sig(E_z))\n",
    "    \n",
    "    train_preds = sig(linreg.predict(X_train_oh))\n",
    "    \n",
    "    \n",
    "    pid2weight = gen_pid_weight_dict(linreg, unique_pids, model_idx)\n",
    "    pred_results = generate_predictions(test_tours_ids, results, pid2weight)\n",
    "    corrs = calculate_correlations(pred_results, true_results)\n",
    "    print(f\"Mean Spearman's correlation:{corrs[0]}\")\n",
    "    print(f\"Mean Kendall's correlation: {corrs[1]}\")\n",
    "    print()\n",
    "    \n",
    "    if corrs[0] > max_scorr:\n",
    "        max_scorr = corrs[0]\n",
    "        best_model = logreg"
   ]
  },
  {
   "cell_type": "markdown",
   "id": "modern-blowing",
   "metadata": {},
   "source": [
    "Обучил только 5 итераций только при последнем запуске.\n",
    "Запустал 50 итераций, но последующие итерации не улучшают заметно качество модели. Оно всегда колеблется в районе 0.75-0.765 по коэффициенту корреляции Спирмана"
   ]
  },
  {
   "cell_type": "code",
   "execution_count": 26,
   "id": "basic-liberia",
   "metadata": {},
   "outputs": [],
   "source": [
    "def generate_tour_rating(qid_to_weight, tour_ids, tournaments):\n",
    "    tour_rating = []\n",
    "    base_qid = 0\n",
    "    for tour_id in tour_ids:\n",
    "        weight = 0\n",
    "        n = sum(tournaments[tour_id]['questionQty'].values())\n",
    "        for i in range(n):\n",
    "            weight += qid_to_weight[base_qid + i]\n",
    "        weight /= n\n",
    "        tour_rating.append((tour_id, weight))\n",
    "        base_qid += n\n",
    "    return sorted(tour_rating, key=lambda x: x[1])"
   ]
  },
  {
   "cell_type": "code",
   "execution_count": 27,
   "id": "likely-origin",
   "metadata": {},
   "outputs": [],
   "source": [
    "unique_qids = train_dataset['Question ID'].unique()\n",
    "model_idx = OHE.transform(np.concatenate((-1*np.ones(num_questions, dtype=int)[:, None],\n",
    "                                         unique_qids[:, None]), axis=1)).nonzero()[1]\n",
    "\n",
    "qid2weight = gen_pid_weight_dict(linreg, unique_qids, model_idx)\n",
    "tour_rating = generate_tour_rating(qid2weight, train_tours_ids, tournaments)"
   ]
  },
  {
   "cell_type": "markdown",
   "id": "supreme-disposal",
   "metadata": {},
   "source": [
    "#### Топ самых сложных турниров.\n",
    "Сложность турнира считается как средняя сложность всех его вопросов. Так как коэффициенты модели показывают \"легкость\" вопросов, то самый сложный турнир будет иметь самый низкий показатель веса, усредненного по всем его вопросам."
   ]
  },
  {
   "cell_type": "code",
   "execution_count": 28,
   "id": "stuffed-saver",
   "metadata": {
    "scrolled": true
   },
   "outputs": [
    {
     "name": "stdout",
     "output_type": "stream",
     "text": [
      "1. Чемпионат Санкт-Петербурга. Первая лига\n",
      "2. Угрюмый Ёрш\n",
      "3. Синхрон высшей лиги Москвы\n",
      "4. Воображаемый музей\n",
      "5. Первенство правого полушария\n",
      "6. Чемпионат Мира. Этап 2. Группа В\n",
      "7. Чемпионат России\n",
      "8. Знание – Сила VI\n",
      "9. Чемпионат Мира. Этап 2. Группа А\n",
      "10. Ускользающая сова\n",
      "11. Записки охотника\n",
      "12. Зеркало мемориала памяти Михаила Басса\n",
      "13. Чемпионат Минска. Лига А. Тур четвёртый\n",
      "14. Чемпионат Мира. Этап 3. Группа В\n",
      "15. Чемпионат Мира. Этап 2 Группа С\n",
      "16. Чемпионат Мира. Финал. Группа С\n",
      "17. Львов зимой. Адвокат\n",
      "18. Чемпионат Мира. Этап 1. Группа С\n",
      "19. Чемпионат Мира. Этап 3. Группа С\n",
      "20. Мемориал Дмитрия Коноваленко\n"
     ]
    }
   ],
   "source": [
    "top_complex_tournaments = tour_rating[:20]\n",
    "for i, (tour_id, _) in enumerate(top_complex_tournaments):\n",
    "    name = tournaments[tour_id]['name']\n",
    "    print(f'{i + 1}. {name}')"
   ]
  },
  {
   "cell_type": "markdown",
   "id": "white-subject",
   "metadata": {},
   "source": [
    "#### Топ самых легкий турниров"
   ]
  },
  {
   "cell_type": "code",
   "execution_count": 29,
   "id": "dramatic-hampshire",
   "metadata": {},
   "outputs": [
    {
     "name": "stdout",
     "output_type": "stream",
     "text": [
      "1. One ring - async\n",
      "2. (а)Синхрон-lite. Лига старта. Эпизод V\n",
      "3. Синхрон Лиги Разума\n",
      "4. Школьная лига. I тур.\n",
      "5. Школьная лига. III тур.\n",
      "6. Студенческий чемпионат Калининградской области\n",
      "7. Школьная лига\n",
      "8. Школьный Синхрон-lite. Выпуск 2.5\n",
      "9. (а)Синхрон-lite. Лига старта. Эпизод VII\n",
      "10. Школьная лига. II тур.\n",
      "11. (а)Синхрон-lite. Лига старта. Эпизод IX\n",
      "12. (а)Синхрон-lite. Лига старта. Эпизод III\n",
      "13. Межфакультетский кубок МГУ. Отбор №4\n",
      "14. Школьный Синхрон-lite. Выпуск 3.1\n",
      "15. Школьный Синхрон-lite. Выпуск 3.3\n",
      "16. (а)Синхрон-lite. Лига старта. Эпизод IV\n",
      "17. Малый кубок Физтеха\n",
      "18. (а)Синхрон-lite. Лига старта. Эпизод X\n",
      "19. Школьный Синхрон-lite. Выпуск 2.3\n",
      "20. Второй тематический турнир имени Джоуи Триббиани\n"
     ]
    }
   ],
   "source": [
    "top_easy_tournaments = tour_rating[-20:][::-1]\n",
    "for i, (tour_id, _) in enumerate(top_easy_tournaments):\n",
    "    name = tournaments[tour_id]['name']\n",
    "    print(f'{i + 1}. {name}')"
   ]
  },
  {
   "cell_type": "markdown",
   "id": "activated-pricing",
   "metadata": {},
   "source": [
    "Как мы можем видеть, в топе самых сложных турниров находятся чемпионаты мира, а в топе самых легких школьные турниры."
   ]
  },
  {
   "cell_type": "code",
   "execution_count": null,
   "id": "impaired-celebration",
   "metadata": {},
   "outputs": [],
   "source": []
  }
 ],
 "metadata": {
  "kernelspec": {
   "display_name": "Python 3",
   "language": "python",
   "name": "python3"
  },
  "language_info": {
   "codemirror_mode": {
    "name": "ipython",
    "version": 3
   },
   "file_extension": ".py",
   "mimetype": "text/x-python",
   "name": "python",
   "nbconvert_exporter": "python",
   "pygments_lexer": "ipython3",
   "version": "3.8.5"
  }
 },
 "nbformat": 4,
 "nbformat_minor": 5
}
