{
 "cells": [
  {
   "cell_type": "code",
   "execution_count": 58,
   "id": "sought-speaker",
   "metadata": {
    "scrolled": true
   },
   "outputs": [],
   "source": [
    "import numpy as np\n",
    "from nltk import ngrams, FreqDist\n",
    "import string\n",
    "import re\n",
    "from tqdm import tqdm\n",
    "seed = 123"
   ]
  },
  {
   "cell_type": "code",
   "execution_count": 59,
   "id": "generous-transportation",
   "metadata": {
    "scrolled": true
   },
   "outputs": [
    {
     "name": "stdout",
     "output_type": "stream",
     "text": [
      "AnnaKarenina.txt   WarAndPeace.txt    WarAndPeaceEng.txt\r\n"
     ]
    }
   ],
   "source": [
    "!ls data.nosync/corpora"
   ]
  },
  {
   "cell_type": "code",
   "execution_count": 60,
   "id": "tutorial-microphone",
   "metadata": {},
   "outputs": [],
   "source": [
    "with open('data.nosync/corpora/AnnaKarenina.txt', 'r') as f:\n",
    "    AK_text = f.read()\n",
    "with open('data.nosync/corpora/WarAndPeace.txt', 'r') as f:\n",
    "    WAP_text = f.read()"
   ]
  },
  {
   "cell_type": "code",
   "execution_count": 61,
   "id": "changing-bottom",
   "metadata": {},
   "outputs": [],
   "source": [
    "corpora = AK_text + WAP_text"
   ]
  },
  {
   "cell_type": "code",
   "execution_count": 85,
   "id": "progressive-graduation",
   "metadata": {},
   "outputs": [],
   "source": [
    "def preprocess(text):\n",
    "    text = re.sub(r'[^а-я\\s]','', text)\n",
    "    text = re.sub(r'_','', text)\n",
    "    text = text.lower()\n",
    "    text = ' '.join(text.split())\n",
    "    return text\n",
    "\n",
    "def gen_new_alphabet(alphabet):\n",
    "    return [''.join(map(lambda x: chr(ord(x)+310), c)) for c in alphabet]\n",
    "\n",
    "def gen_rand_map(source_alphabet, target_alphabet, seed):\n",
    "    np.random.seed(seed)\n",
    "    return dict(list(zip(source_alphabet,\n",
    "                         np.random.permutation(target_alphabet))))\n",
    "\n",
    "def cipher(text, mapping):\n",
    "    return ''.join(mapping[c] for c in text)\n",
    "\n",
    "def freq_decipher(text, n, corpora_freqs):\n",
    "    text_freqs = FreqDist(ngrams(text, n))\n",
    "    text_freqs_sorted = [''.join(a[0]) for a in\n",
    "                        sorted(list(text_freqs.items()),\n",
    "                                   key=lambda x: x[1], reverse=True)]\n",
    "    corpora_freqs_sorted = [''.join(a[0]) for a in\n",
    "                        sorted(list(corpora_freqs.items()),\n",
    "                                   key=lambda x: x[1], reverse=True)]\n",
    "    mapper = dict(list(zip(text_freqs_sorted, corpora_freqs_sorted)))\n",
    "    return ''.join([mapper[''.join(c)] if i % n == 0 else '' for i, c in enumerate(ngrams(text, n))])"
   ]
  },
  {
   "cell_type": "code",
   "execution_count": 86,
   "id": "purple-teaching",
   "metadata": {},
   "outputs": [],
   "source": [
    "corpora = preprocess(corpora)"
   ]
  },
  {
   "cell_type": "markdown",
   "id": "every-effectiveness",
   "metadata": {},
   "source": [
    "### 1. Отдельные буквы"
   ]
  },
  {
   "cell_type": "code",
   "execution_count": 87,
   "id": "emerging-chemistry",
   "metadata": {},
   "outputs": [],
   "source": [
    "freq_unigrams = FreqDist(ngrams(corpora, 1))"
   ]
  },
  {
   "cell_type": "code",
   "execution_count": 217,
   "id": "placed-disease",
   "metadata": {
    "scrolled": true
   },
   "outputs": [
    {
     "name": "stdout",
     "output_type": "stream",
     "text": [
      "[' ', 'а', 'б', 'в', 'г', 'д', 'е', 'ж', 'з', 'и', 'й', 'к', 'л', 'м', 'н', 'о', 'п', 'р', 'с', 'т', 'у', 'ф', 'х', 'ц', 'ч', 'ш', 'щ', 'ъ', 'ы', 'ь', 'э', 'ю', 'я']\n"
     ]
    }
   ],
   "source": [
    "alphabet = [''.join(a) for a in sorted(list(freq_unigrams.keys()))]\n",
    "print(alphabet)"
   ]
  },
  {
   "cell_type": "code",
   "execution_count": 218,
   "id": "practical-twelve",
   "metadata": {
    "scrolled": true
   },
   "outputs": [
    {
     "name": "stdout",
     "output_type": "stream",
     "text": [
      "{' ': 'խ', 'а': 'տ', 'б': 'ժ', 'в': 'ւ', 'г': 'պ', 'д': 'փ', 'е': 'ղ', 'ж': 'լ', 'з': 'ռ', 'и': 'ձ', 'й': 'հ', 'к': 'յ', 'л': 'թ', 'м': 'ը', 'н': 'ր', 'о': 'չ', 'п': 'շ', 'р': 'ճ', 'с': 'ս', 'т': 'ծ', 'у': 'մ', 'ф': 'ք', 'х': 'Ŗ', 'ц': 'զ', 'ч': 'ջ', 'ш': 'վ', 'щ': 'կ', 'ъ': 'ո', 'ы': 'ն', 'ь': 'ի', 'э': 'օ', 'ю': 'ց', 'я': 'է'}\n"
     ]
    }
   ],
   "source": [
    "new_alphabet = gen_new_alphabet(alphabet)\n",
    "mapping = gen_rand_map(alphabet, new_alphabet, seed)\n",
    "print(mapping)"
   ]
  },
  {
   "cell_type": "code",
   "execution_count": 219,
   "id": "regulated-motivation",
   "metadata": {},
   "outputs": [
    {
     "data": {
      "text/plain": [
       "'ыла в карете она была совсем другая на была испуганная робкая пристыженная и оттого еще более прелестная на увидала его в то же мгновение как он вошел в комнату на ждала его на обрадовалась и смутилась от своей радости до такой степени что была минута именно та когда он подходил к хозяйке и опять взглянул на нее что и ей и ему и олли которая все видела казалось что она не выдержит и заплачет на покраснела побледнела опять покраснела и замерла чуть вздрагивая губами ожидая его н подошел к ней пок'"
      ]
     },
     "execution_count": 219,
     "metadata": {},
     "output_type": "execute_result"
    }
   ],
   "source": [
    "np.random.seed(seed)\n",
    "test_length = 10_000\n",
    "start_idx = np.random.randint(0, len(corpora) - test_length)\n",
    "test_orig = corpora[start_idx:start_idx + test_length]\n",
    "test_orig[:500]"
   ]
  },
  {
   "cell_type": "code",
   "execution_count": 220,
   "id": "identical-reduction",
   "metadata": {},
   "outputs": [
    {
     "data": {
      "text/plain": [
       "'նթտխւխյտճղծղխչրտխժնթտխսչւսղըխփճմպտէխրտխժնթտխձսշմպտրրտէխճչժյտէխշճձսծնլղրրտէխձխչծծչպչխղկղխժչթղղխշճղթղսծրտէխրտխմւձփտթտխղպչխւխծչխլղխըպրչւղրձղխյտյխչրխւչվղթխւխյչըրտծմխրտխլփտթտխղպչխրտխչժճտփչւտթտսիխձխսըմծձթտսիխչծխսւչղհխճտփչսծձխփչխծտյչհխսծղշղրձխջծչխժնթտխըձրմծտխձըղրրչխծտխյչպփտխչրխշչփŖչփձթխյխŖչռէհյղխձխչշէծիխւռպթէրմթխրտխրղղխջծչխձխղհխձխղըմխձխչթթձխյչծչճտէխւսղխւձփղթտխյտռտթչսիխջծչխչրտխրղխւնփղճլձծխձխռտշթտջղծխրտխշչյճտսրղթտխշչժթղփրղթտխչշէծիխշչյճտսրղթտխձխռտըղճթտխջմծիխւռփճտպձւտէխպմժտըձխչլձփտէխղպչխրխշչփչվղթխյխրղհխշչյ'"
      ]
     },
     "execution_count": 220,
     "metadata": {},
     "output_type": "execute_result"
    }
   ],
   "source": [
    "test_ciphered = cipher(test_orig, mapping)\n",
    "test_ciphered[:500]"
   ]
  },
  {
   "cell_type": "code",
   "execution_count": 221,
   "id": "breeding-tucson",
   "metadata": {},
   "outputs": [
    {
     "data": {
      "text/plain": [
       "'пла в каресе оиа зпла товтеу дрмыая иа зпла нтьмыаииая розкая ьрнтспйеииая н оссоыо еэе золее ьрелетсиая иа мвндала еыо в со йе уыиовеине как ои вошел в коуиасм иа йдала еыо иа озрадовалатб н тумснлатб ос твоеж радотсн до сакож тсеьеин чсо зпла унимса нуеиио са коыда ои ьодюоднл к юогяжке н оьясб вгыляимл иа иее чсо н еж н еум н оллн косорая вте вндела кагалотб чсо оиа ие впдерйнс н гаьлачес иа ьократиела ьозледиела оьясб ьократиела н гауерла чмсб вгдраынвая ымзаун ойндая еыо и ьодошел к иеж ьок'"
      ]
     },
     "execution_count": 221,
     "metadata": {},
     "output_type": "execute_result"
    }
   ],
   "source": [
    "freq_decipher(test_ciphered, 1, freq_unigrams)[:500]"
   ]
  },
  {
   "cell_type": "markdown",
   "id": "cubic-presence",
   "metadata": {},
   "source": [
    "### 2. Все то же самое, только для биграмм"
   ]
  },
  {
   "cell_type": "code",
   "execution_count": 70,
   "id": "composed-sauce",
   "metadata": {
    "scrolled": true
   },
   "outputs": [],
   "source": [
    "freq_bigrams = FreqDist(ngrams(corpora, 2))"
   ]
  },
  {
   "cell_type": "code",
   "execution_count": 71,
   "id": "cathedral-uruguay",
   "metadata": {
    "scrolled": true
   },
   "outputs": [
    {
     "data": {
      "text/plain": [
       "'ев вергоакри онов ев всьоеойорныба пнов ев вднквба эазскатго помдндьс  эазна очнт о зми ымпри омзаолшааз с вмыий т внно ертотни юсстчелаи го ум  нцеза н китноув с всм т внно но омабея  т ркоа бллын  рковае каемскбеесилоро х поовь ожена асо об богвелы втиенстй  впоеп вм  итеис жл  уисезеяи а ьнжнкоытыврясв с внеи асо а емнавоидна орма потоот поеи  дхо б кос тескоасо м  вне ньз гумю а  чыбоюмо с вонгл рне б иатпрсаза вьнжнкоонгл рне бнавсму г бделыкоытедулзназимрьмуа диийазвоал с итецеза к сем иад'"
      ]
     },
     "execution_count": 71,
     "metadata": {},
     "output_type": "execute_result"
    }
   ],
   "source": [
    "freq_decipher(test_ciphered, 2, freq_bigrams)[:500]"
   ]
  },
  {
   "cell_type": "markdown",
   "id": "republican-controversy",
   "metadata": {},
   "source": [
    "Стало, на мой взгляд, еще хуже. Вероятно выбранный фрагмент текста слишком маленький для того, чтобы получить похожее распределение биграмм."
   ]
  },
  {
   "cell_type": "markdown",
   "id": "periodic-burning",
   "metadata": {},
   "source": [
    "### 3. Monte Carlo Markov Chain sampling"
   ]
  },
  {
   "cell_type": "markdown",
   "id": "dutch-bahamas",
   "metadata": {},
   "source": [
    "Идея в том, чтобы сэмлить перестановки и оценивать прадоподобия этих перестановок. Наиболее правдоподобные будет иметь большую плотность и будут чаще сэмплироваться. В качестве функции правдоподобия будем считать \n",
    "$$\\Pi_{g \\in ngrams} freq(g)^{freq'(g)}$$ \n",
    "А точнее его логарифм:\n",
    "$$\\Sigma_{g \\in ngrams} freq'(g)log(freq(g))$$\n",
    "Где $freq(g)$ частота n-граммы $g$ в большом корпусе, а $freq'(g)$ частота в данном тексте."
   ]
  },
  {
   "cell_type": "code",
   "execution_count": 140,
   "id": "solved-sector",
   "metadata": {},
   "outputs": [],
   "source": [
    "def decipher(text, mapping):\n",
    "    return ''.join(mapping[c] for c in text)\n",
    "\n",
    "def calc_log_density(text, mapping, n, true_ngram_freqs):\n",
    "    text = cipher(text, mapping)\n",
    "    text_freqs = FreqDist(ngrams(text, n))\n",
    "    total_log_density = 0\n",
    "    for ngram, freq in text_freqs.items():\n",
    "        if true_ngram_freqs[ngram] == 0:\n",
    "            continue\n",
    "        total_log_density += freq * np.log(true_ngram_freqs[ngram])\n",
    "    return total_log_density\n",
    "\n",
    "def gen_new_mapping(mapping):\n",
    "    mapping = mapping.copy()\n",
    "    for _ in range(1):\n",
    "        x, y = np.random.choice(list(mapping.keys()), 2, replace=True)\n",
    "        tmp = mapping[x]\n",
    "        mapping[x] = mapping[y]\n",
    "        mapping[y] = tmp\n",
    "    return mapping"
   ]
  },
  {
   "cell_type": "code",
   "execution_count": 155,
   "id": "moral-services",
   "metadata": {},
   "outputs": [],
   "source": [
    "def metropolis_hastings_sample(text, mapping, n_iter, n, true_ngram_freqs, alphabet):\n",
    "\n",
    "    for i in range(n_iter):\n",
    "        # sample \n",
    "        new_mapping = gen_new_mapping(mapping)\n",
    "        \n",
    "        log_p_x_prime = calc_log_density(text, new_mapping, 2, true_ngram_freqs)\n",
    "        log_p_x_t = calc_log_density(text, mapping, 2, true_ngram_freqs)\n",
    "        \n",
    "        a = min(1, np.exp(log_p_x_prime - log_p_x_t))\n",
    "        \n",
    "        if np.random.uniform() < a and i < n_iter-1:\n",
    "            mapping = new_mapping\n",
    "            \n",
    "    return mapping, log_p_x_t"
   ]
  },
  {
   "cell_type": "code",
   "execution_count": 225,
   "id": "prepared-shape",
   "metadata": {
    "scrolled": true
   },
   "outputs": [],
   "source": [
    "def sampling(ciphered_text, n, ngrams_freqs, alphabet, n_tries, n_iters, first_n_iters, rnd_seed=None, cipher_alphabet=None):\n",
    "    if rnd_seed is None:\n",
    "        rnd_seed = np.random.randint(0, 1000)\n",
    "    print(f'Random seed: {rnd_seed}')\n",
    "    if cipher_alphabet:\n",
    "        random_inv_mapping = gen_rand_map(cipher_alphabet, alphabet, rnd_seed)\n",
    "    else:\n",
    "        random_inv_mapping = gen_rand_map(gen_new_alphabet(alphabet), alphabet, rnd_seed)\n",
    "    inv_mapping, best_density = metropolis_hastings_sample(ciphered_text, random_inv_mapping,\n",
    "                                         first_n_iters, n, ngrams_freqs, alphabet)\n",
    "    best_inv_mapping = inv_mapping\n",
    "    for _ in tqdm(range(n_tries)):\n",
    "        inv_mapping, log_density = metropolis_hastings_sample(ciphered_text, inv_mapping,\n",
    "                                         n_iters, n, ngrams_freqs, alphabet)\n",
    "        if log_density > best_density:\n",
    "            best_density = log_density\n",
    "            best_inv_mapping = inv_mapping\n",
    "    return best_inv_mapping"
   ]
  },
  {
   "cell_type": "code",
   "execution_count": 161,
   "id": "australian-harassment",
   "metadata": {},
   "outputs": [
    {
     "name": "stderr",
     "output_type": "stream",
     "text": [
      "<ipython-input-155-6e19c05c6c0d>:10: RuntimeWarning: overflow encountered in exp\n",
      "  a = min(1, np.exp(log_p_x_prime - log_p_x_t))\n",
      "100%|██████████| 100/100 [01:51<00:00,  1.11s/it]\n"
     ]
    },
    {
     "data": {
      "text/plain": [
       "'ыла в карете она была совсем другая на была испуганная робкая пристыженная и оттого еще более прелестная на увидала его в то же мгновение как он вошел в комнату на ждала его на обрадовалась и смутилась от своей радости до такой степени что была минута именно та когда он подходил к хозяйке и опять взглянул на нее что и ей и ему и олли которая все видела казалось что она не выдержит и заплачет на покраснела побледнела опять покраснела и замерла чуть вздрагивая губами ожидая его н подошел к ней пок'"
      ]
     },
     "execution_count": 161,
     "metadata": {},
     "output_type": "execute_result"
    }
   ],
   "source": [
    "inv_mapping = sampling(test_ciphered, 2, freq_bigrams, alphabet, 100, 50, 300, rnd_seed=170)\n",
    "cipher(test_ciphered, inv_mapping)[:500]"
   ]
  },
  {
   "cell_type": "code",
   "execution_count": 174,
   "id": "impressed-sapphire",
   "metadata": {},
   "outputs": [],
   "source": [
    "ciphered_message = 'დჳჵჂႨშႼႨშჂხჂჲდႨსႹႭჾႣჵისႼჰႨჂჵჂႨႲႹႧჲჂႨსႹႭჾႣჵისႼჰႨჲდႩჳჲႨჇႨႠჲႹქႹႨჳႹႹჱჶდსჂႽႨႩႹჲႹႭႼჰႨჵდქႩႹႨႲႭႹႧჂჲႣჲიႨჳႩႹႭდდႨშჳდქႹႨშႼႨშჳდႨჳხდჵႣჵჂႨႲႭႣშჂჵისႹႨჂႨႲႹჵჇႧჂჲდႨჾႣႩჳჂჾႣჵისႼჰႨჱႣჵჵႨეႣႨႲႹჳჵდხსდდႨႧდჲშდႭჲႹდႨეႣხႣსჂდႨႩჇႭჳႣႨႾႹჲႽႨႩႹსდႧსႹႨႽႨსჂႧდქႹႨსდႨႹჱდჶႣნ'"
   ]
  },
  {
   "cell_type": "code",
   "execution_count": 175,
   "id": "promotional-consensus",
   "metadata": {},
   "outputs": [
    {
     "name": "stdout",
     "output_type": "stream",
     "text": [
      "28 33\n"
     ]
    }
   ],
   "source": [
    "print(len(set(ciphered_message)), len(alphabet))"
   ]
  },
  {
   "cell_type": "markdown",
   "id": "worldwide-brain",
   "metadata": {},
   "source": [
    "Чтобы переиспользовать уже написанный код, я искуственно дополню новый алфавит, чтобы длина алфавитов была равна"
   ]
  },
  {
   "cell_type": "code",
   "execution_count": 180,
   "id": "powerful-floor",
   "metadata": {},
   "outputs": [
    {
     "data": {
      "text/plain": [
       "33"
      ]
     },
     "execution_count": 180,
     "metadata": {},
     "output_type": "execute_result"
    }
   ],
   "source": [
    "cipher_alphabet = list(set(ciphered_message).union(set('ABCDE')))\n",
    "len(cipher_alphabet)"
   ]
  },
  {
   "cell_type": "code",
   "execution_count": 197,
   "id": "cooperative-interest",
   "metadata": {},
   "outputs": [
    {
     "name": "stderr",
     "output_type": "stream",
     "text": [
      "  2%|▏         | 2/100 [00:00<00:14,  6.73it/s]"
     ]
    },
    {
     "name": "stdout",
     "output_type": "stream",
     "text": [
      "68\n"
     ]
    },
    {
     "name": "stderr",
     "output_type": "stream",
     "text": [
      "100%|██████████| 100/100 [00:10<00:00,  9.53it/s]\n"
     ]
    },
    {
     "data": {
      "text/plain": [
       "'если вы вимите нордальный или почти нордальный текст у этого сообжения который легко прочитать скорее всего вы все смелали правильно и получите даксидальный балл за послемнее четвертое замание курса хотя конечно я ничего не обежаю'"
      ]
     },
     "execution_count": 197,
     "metadata": {},
     "output_type": "execute_result"
    }
   ],
   "source": [
    "inv_mapping = sampling(ciphered_message, 2, freq_bigrams, alphabet, 100,\n",
    "                       100, 300, cipher_alphabet=cipher_alphabet, rnd_seed=68)\n",
    "cipher(ciphered_message, inv_mapping)"
   ]
  },
  {
   "cell_type": "markdown",
   "id": "different-behavior",
   "metadata": {},
   "source": [
    "### Бонус"
   ]
  },
  {
   "cell_type": "code",
   "execution_count": 222,
   "id": "limited-width",
   "metadata": {},
   "outputs": [],
   "source": [
    "freq_trigrams = FreqDist(ngrams(corpora, 3))"
   ]
  },
  {
   "cell_type": "code",
   "execution_count": 224,
   "id": "russian-acrylic",
   "metadata": {
    "scrolled": true
   },
   "outputs": [
    {
     "name": "stdout",
     "output_type": "stream",
     "text": [
      "596\n"
     ]
    },
    {
     "name": "stderr",
     "output_type": "stream",
     "text": [
      "100%|██████████| 100/100 [03:28<00:00,  2.08s/it]\n"
     ]
    },
    {
     "data": {
      "text/plain": [
       "'рдшисицшз э имкшижрдшиомсо хиъзщяшфикшижрдшиюотщяшккшфизмжцшфитзюоэрь ккшфиюимээмями у ижмд  итз д оэкшфикшищсюъшдши ямисиэмиь ихякмс кю ицшцимкисмг дисицмхкшэщикшиьъшдши ямикшимжзшъмсшдшовиюиохщэюдшовимэиосм бизшъмоэюиъмиэшцмбиоэ т кюичэмижрдшихюкщэшиюх ккмиэшицмяъшимкитмънмъюдицинмафбц июимтфэвисаядфкщдикшик  ичэмиюи биюи хщиюимддюицмэмзшфисо исюъ дшицшашдмовичэмимкшик исръ зьюэиюиаштдшч эикшитмцзшок дшитмжд ък дшимтфэвитмцзшок дшиюиашх здшичщэвисаъзшяюсшфиящжшхюимьюъшфи ямикитмъмг дицик битмц'"
      ]
     },
     "execution_count": 224,
     "metadata": {},
     "output_type": "execute_result"
    }
   ],
   "source": [
    "inv_mapping = sampling(test_ciphered, 3, freq_trigrams, alphabet, 100, 100, 300)\n",
    "cipher(test_ciphered, inv_mapping)[:500]"
   ]
  },
  {
   "cell_type": "markdown",
   "id": "starting-drama",
   "metadata": {},
   "source": [
    "Тяжело определить, что работает лучше, потому что сам алгоритм сходится далеко не всегда и для биграмм и для триграмм. Приходится подбирать параметры - кол-во попыток и кол-во шагов для взятия одного сэмла. Но если подобрать параметры, то оба алгортима (на биграммах и триграммах) работают хорошо"
   ]
  }
 ],
 "metadata": {
  "kernelspec": {
   "display_name": "Python 3",
   "language": "python",
   "name": "python3"
  },
  "language_info": {
   "codemirror_mode": {
    "name": "ipython",
    "version": 3
   },
   "file_extension": ".py",
   "mimetype": "text/x-python",
   "name": "python",
   "nbconvert_exporter": "python",
   "pygments_lexer": "ipython3",
   "version": "3.8.5"
  }
 },
 "nbformat": 4,
 "nbformat_minor": 5
}
